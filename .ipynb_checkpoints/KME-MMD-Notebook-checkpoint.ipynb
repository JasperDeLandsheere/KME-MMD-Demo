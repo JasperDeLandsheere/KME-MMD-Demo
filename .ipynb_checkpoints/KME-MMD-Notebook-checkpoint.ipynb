{
 "cells": [
  {
   "cell_type": "code",
   "execution_count": 1,
   "id": "c7cb1d6a",
   "metadata": {},
   "outputs": [],
   "source": [
    "import numpy as np\n",
    "import pandas as pd\n",
    "import matplotlib.pyplot as plt\n",
    "import ipywidgets as widgets\n",
    "\n",
    "from sklearn.gaussian_process.kernels import RBF, ConstantKernel as C"
   ]
  },
  {
   "cell_type": "code",
   "execution_count": 2,
   "id": "fb5ee4c1",
   "metadata": {},
   "outputs": [],
   "source": [
    "# Define the noisy circle function\n",
    "def noisy_circle(n, R, noise):\n",
    "    t = 2 * np.pi * np.random.rand(n)\n",
    "    X = R * np.column_stack((np.cos(t), np.sin(t))) + noise * np.random.randn(n, 2)\n",
    "    return X"
   ]
  },
  {
   "cell_type": "code",
   "execution_count": 3,
   "id": "344c8b86",
   "metadata": {},
   "outputs": [],
   "source": [
    "# Define the perfect circle function\n",
    "def circle(n, R):\n",
    "    t = np.linspace(0, 2 * np.pi, n)\n",
    "    X = R * np.column_stack((np.cos(t), np.sin(t)))\n",
    "    return X"
   ]
  },
  {
   "cell_type": "code",
   "execution_count": 4,
   "id": "37ebfcdb",
   "metadata": {},
   "outputs": [],
   "source": [
    "# Generate noisy circle data\n",
    "n = 100\n",
    "R = 20\n",
    "noise = 1\n",
    "X = noisy_circle(n, R, noise)"
   ]
  },
  {
   "cell_type": "code",
   "execution_count": 5,
   "id": "e5235956",
   "metadata": {},
   "outputs": [],
   "source": [
    "# Define the Gaussian kernel\n",
    "kernel = C(1.0, (1e-3, 1e3)) * RBF(10, (1e-2, 1e2))"
   ]
  },
  {
   "cell_type": "code",
   "execution_count": 6,
   "id": "509ac7c3",
   "metadata": {},
   "outputs": [],
   "source": [
    "# Generate an array of 100 Radii ranging from 15 to 25\n",
    "R2 = np.linspace(15, 25, 100)"
   ]
  },
  {
   "cell_type": "code",
   "execution_count": 7,
   "id": "e2f2dce7",
   "metadata": {},
   "outputs": [],
   "source": [
    "# Assign an array for the MMDs\n",
    "mmds = np.zeros(100)"
   ]
  },
  {
   "cell_type": "code",
   "execution_count": 8,
   "id": "5be6c7fa",
   "metadata": {},
   "outputs": [],
   "source": [
    "# Generate the kernelmatrix over the coordinates of the input data\n",
    "K1 = kernel(X)"
   ]
  },
  {
   "cell_type": "code",
   "execution_count": 9,
   "id": "1ba32c18",
   "metadata": {},
   "outputs": [],
   "source": [
    "# Generate the MMDs\n",
    "for i in range(n):\n",
    "    # Generate a model circle consisting of 100 points with Radius i\n",
    "    A = circle(100, R2[i])\n",
    "    # Generate the kernelmatrix over the coordinates of the model circle\n",
    "    K2 = kernel(A)\n",
    "    # Generate the kernelmatrix over the coordinates of the input data\n",
    "    # and the model circle\n",
    "    K3 = kernel(X, A)\n",
    "    # Calculate the MMD\n",
    "    mmd = np.mean(K1) - 2 * np.mean(K3) + np.mean(K2)\n",
    "    # Add the MMD to the mmds array\n",
    "    mmds[i] = mmd"
   ]
  },
  {
   "cell_type": "code",
   "execution_count": 10,
   "id": "5fcd941c",
   "metadata": {},
   "outputs": [],
   "source": [
    "# Find the Radius with the minimum MMD\n",
    "# index = np.argmin(mmds)"
   ]
  },
  {
   "cell_type": "code",
   "execution_count": 11,
   "id": "9d30e837",
   "metadata": {},
   "outputs": [],
   "source": [
    "# Define the plotting function\n",
    "def plot_fitted_model(index=np.argmin(mmds)):\n",
    "    plt.figure(figsize=(10,5)) \n",
    "    # Plot 1\n",
    "    plt.subplot(1,2,1) \n",
    "    # Plot the MMD versus Radius\n",
    "    plt.plot(R2, mmds)\n",
    "    plt.plot(R2[index], mmds[index], 'ro', markersize=10)\n",
    "    plt.xlabel(\"Radius\")\n",
    "    plt.ylabel(\"Maximum Mean Discrepancy\")\n",
    "    plt.title(\"MMD versus Radius\")\n",
    "    # Plot 2\n",
    "    plt.subplot(1,2,2) \n",
    "    # Plot the Input Data\n",
    "    plt.scatter(X[:, 0], X[:, 1], label=\"Input data\")\n",
    "    perfect = circle(100, R2[index])\n",
    "    plt.scatter(perfect[:, 0], perfect[:, 1], label=\"Fitted model\")\n",
    "    plt.xlabel(\"x1\")\n",
    "    plt.ylabel(\"x2\")\n",
    "    plt.title(\"Fitted model on the Input Data\")\n",
    "    plt.legend()\n",
    "    plt.show()"
   ]
  },
  {
   "cell_type": "code",
   "execution_count": 12,
   "id": "8180eecc",
   "metadata": {},
   "outputs": [
    {
     "data": {
      "application/vnd.jupyter.widget-view+json": {
       "model_id": "e9c70ecd750342a59f4be71ca904f1a0",
       "version_major": 2,
       "version_minor": 0
      },
      "text/plain": [
       "interactive(children=(IntSlider(value=50, description='index', max=99), Output()), _dom_classes=('widget-inter…"
      ]
     },
     "metadata": {},
     "output_type": "display_data"
    },
    {
     "data": {
      "text/plain": [
       "<function __main__.plot_fitted_model(index=50)>"
      ]
     },
     "execution_count": 12,
     "metadata": {},
     "output_type": "execute_result"
    }
   ],
   "source": [
    "# Call the plotting function\n",
    "widgets.interact(plot_fitted_model, index = (0, len(mmds)-1, 1))"
   ]
  }
 ],
 "metadata": {
  "kernelspec": {
   "display_name": "Python 3 (ipykernel)",
   "language": "python",
   "name": "python3"
  },
  "language_info": {
   "codemirror_mode": {
    "name": "ipython",
    "version": 3
   },
   "file_extension": ".py",
   "mimetype": "text/x-python",
   "name": "python",
   "nbconvert_exporter": "python",
   "pygments_lexer": "ipython3",
   "version": "3.8.3"
  }
 },
 "nbformat": 4,
 "nbformat_minor": 5
}
