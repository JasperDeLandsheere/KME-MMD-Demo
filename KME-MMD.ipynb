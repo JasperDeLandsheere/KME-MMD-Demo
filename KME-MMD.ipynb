{
 "cells": [
  {
   "cell_type": "markdown",
   "metadata": {},
   "source": [
    "# Simple demo on the MMD\n",
    "### Packages"
   ]
  },
  {
   "cell_type": "code",
   "execution_count": 14,
   "id": "c7cb1d6a",
   "metadata": {},
   "outputs": [],
   "source": [
    "import numpy as np\n",
    "import matplotlib.pyplot as plt\n",
    "import ipywidgets as widgets\n",
    "from sklearn.gaussian_process.kernels import RBF, ConstantKernel as C"
   ]
  },
  {
   "cell_type": "markdown",
   "metadata": {},
   "source": [
    "### Some utils"
   ]
  },
  {
   "cell_type": "code",
   "execution_count": 78,
   "id": "fb5ee4c1",
   "metadata": {},
   "outputs": [],
   "source": [
    "# Generate n points on a circle of radius R with Gaussian noise of standard deviation noise\n",
    "def noisy_circle(n: int, R: int, noise: float) -> np.ndarray:\n",
    "    t = 2 * np.pi * np.random.rand(n)\n",
    "    X = R * np.column_stack((np.cos(t), np.sin(t))) + noise * np.random.randn(n, 2)\n",
    "    return X\n",
    "\n",
    "# Generate n points on a circle of radius R without any noise\n",
    "def circle(n: int, R: int) -> np.ndarray:\n",
    "    t = np.linspace(0, 2 * np.pi, n)\n",
    "    X = R * np.column_stack((np.cos(t), np.sin(t)))\n",
    "    return X\n",
    "\n",
    "# Define the plotting function\n",
    "def plot_fitted_model(index: int, R2: np.ndarray, mmds: np.ndarray, X: np.ndarray, save_enabled: bool) -> None:\n",
    "    plt.figure(figsize=(10,5)) \n",
    "    # Plot 1\n",
    "    plt.subplot(1,2,1) \n",
    "    # Plot the MMD versus Radius\n",
    "    plt.plot(R2, mmds)\n",
    "    plt.plot(R2[index], mmds[index], 'ro', markersize=10)\n",
    "    plt.xlabel(\"Radius\")\n",
    "    plt.ylabel(\"Maximum Mean Discrepancy\")\n",
    "    plt.title(\"MMD versus Radius\")\n",
    "    # Plot 2\n",
    "    plt.subplot(1,2,2) \n",
    "    # Plot the Input Data\n",
    "    plt.scatter(X[:, 0], X[:, 1], label=\"Input data\")\n",
    "    perfect = circle(100, R2[index])\n",
    "    plt.scatter(perfect[:, 0], perfect[:, 1], label=\"Fitted model\")\n",
    "    plt.xlabel(\"x1\")\n",
    "    plt.ylabel(\"x2\")\n",
    "    plt.title(\"Fitted model on the Input Data\")\n",
    "    plt.legend()\n",
    "    # If save_enabled = True when you want to save the figure\n",
    "    if save_enabled and index in [22, 49, 73]:\n",
    "        plt.savefig(f'output_figure_{index}.png')\n",
    "    plt.show()"
   ]
  },
  {
   "cell_type": "markdown",
   "metadata": {},
   "source": [
    "### Define a simple kernel"
   ]
  },
  {
   "cell_type": "code",
   "execution_count": 79,
   "id": "e5235956",
   "metadata": {},
   "outputs": [],
   "source": [
    "# Define the Gaussian kernel\n",
    "kernel = C(1.0, (1e-3, 1e3)) * RBF(10, (1e-2, 1e2))"
   ]
  },
  {
   "cell_type": "markdown",
   "metadata": {},
   "source": [
    "### Generate some data"
   ]
  },
  {
   "cell_type": "code",
   "execution_count": 80,
   "id": "37ebfcdb",
   "metadata": {},
   "outputs": [],
   "source": [
    "# Set seed\n",
    "np.random.seed(0)\n",
    "# Hyperparameters\n",
    "n = 100\n",
    "R = 20\n",
    "noise = 1\n",
    "# Generate the data\n",
    "X = noisy_circle(n, R, noise)\n",
    "# Generate 100 Radii ranging from 15 to 25\n",
    "R2 = np.linspace(15, 25, 100)\n",
    "# Assign an array for the MMDs\n",
    "mmds = np.zeros(100)"
   ]
  },
  {
   "cell_type": "code",
   "execution_count": 81,
   "metadata": {},
   "outputs": [
    {
     "data": {
      "image/png": "[encoded data removed]",
      "text/plain": [
       "<Figure size 700x500 with 1 Axes>"
      ]
     },
     "metadata": {},
     "output_type": "display_data"
    }
   ],
   "source": [
    "# Visualise\n",
    "plt.figure(figsize=(7,5))\n",
    "plt.scatter(X[:, 0], X[:, 1])\n",
    "plt.xlabel(\"x1\")\n",
    "plt.ylabel(\"x2\")\n",
    "plt.title(\"Input Data\")\n",
    "plt.axis('equal')\n",
    "#plt.savefig('Input_Data.png')\n",
    "plt.show()"
   ]
  },
  {
   "cell_type": "markdown",
   "metadata": {},
   "source": [
    "### Compute the MMD - the interesting part!"
   ]
  },
  {
   "cell_type": "code",
   "execution_count": 82,
   "id": "1ba32c18",
   "metadata": {},
   "outputs": [],
   "source": [
    "# Generate the kernelmatrix over the coordinates of the **input** data\n",
    "K1 = kernel(X)\n",
    "# Generate the MMDs\n",
    "for i in range(n):\n",
    "    # Generate the model circle\n",
    "    A = circle(100, R2[i])\n",
    "    # Generate the kernelmatrix over the coordinates of the model circle\n",
    "    K2 = kernel(A)\n",
    "    # Generate the kernelmatrix over the coordinates of the **input data and the model circle**\n",
    "    K3 = kernel(X, A)\n",
    "    # Calculate the MMD\n",
    "    mmd = np.mean(K1) - 2 * np.mean(K3) + np.mean(K2)\n",
    "    # Add the MMD to the mmds array\n",
    "    mmds[i] = mmd"
   ]
  },
  {
   "cell_type": "markdown",
   "metadata": {},
   "source": [
    "### Minimum MMD"
   ]
  },
  {
   "cell_type": "code",
   "execution_count": 83,
   "id": "5fcd941c",
   "metadata": {},
   "outputs": [
    {
     "name": "stdout",
     "output_type": "stream",
     "text": [
      "The Radius with the minimum MMD is:  19.949494949494948\n",
      "The Radius of the original circle is:  20\n"
     ]
    }
   ],
   "source": [
    "# Find the Radius with the minimum MMD\n",
    "index = np.argmin(mmds)\n",
    "print(\"The Radius with the minimum MMD is: \", R2[index])\n",
    "print(\"The Radius of the original circle is: \", R)"
   ]
  },
  {
   "cell_type": "markdown",
   "metadata": {},
   "source": [
    "### Let's visualise! - another interesting part"
   ]
  },
  {
   "cell_type": "code",
   "execution_count": 86,
   "id": "8180eecc",
   "metadata": {},
   "outputs": [
    {
     "data": {
      "application/vnd.jupyter.widget-view+json": {
       "model_id": "4bb0b56141e44968b4af81b31051b5b8",
       "version_major": 2,
       "version_minor": 0
      },
      "text/plain": [
       "interactive(children=(IntSlider(value=49, description='index', max=99), Output()), _dom_classes=('widget-inter…"
      ]
     },
     "metadata": {},
     "output_type": "display_data"
    },
    {
     "data": {
      "text/plain": [
       "<function __main__.plot_fitted_model(index: int, R2: numpy.ndarray, mmds: numpy.ndarray, X: numpy.ndarray, save_enabled: bool) -> None>"
      ]
     },
     "execution_count": 86,
     "metadata": {},
     "output_type": "execute_result"
    }
   ],
   "source": [
    "# For saving figure\n",
    "save_enabled = False\n",
    "# Call the plotting function\n",
    "widgets.interact(plot_fitted_model, index = (0, len(mmds)-1, 1), mmds = widgets.fixed(mmds), R2 = widgets.fixed(R2), X = widgets.fixed(X), save_enabled = widgets.fixed(save_enabled))"
   ]
  },
  {
   "cell_type": "code",
   "execution_count": null,
   "metadata": {},
   "outputs": [],
   "source": []
  }
 ],
 "metadata": {
  "kernelspec": {
   "display_name": "Python 3 (ipykernel)",
   "language": "python",
   "name": "python3"
  },
  "language_info": {
   "codemirror_mode": {
    "name": "ipython",
    "version": 3
   },
   "file_extension": ".py",
   "mimetype": "text/x-python",
   "name": "python",
   "nbconvert_exporter": "python",
   "pygments_lexer": "ipython3",
   "version": "3.11.5"
  }
 },
 "nbformat": 4,
 "nbformat_minor": 5
}
